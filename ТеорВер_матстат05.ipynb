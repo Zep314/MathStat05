{
 "cells": [
  {
   "cell_type": "markdown",
   "id": "55b4354f",
   "metadata": {},
   "source": [
    "# Теория вероятностей и математическая статистика (семинары)\n",
    "## Урок 5. Тестирование гипотез"
   ]
  },
  {
   "cell_type": "markdown",
   "id": "239ecb9d",
   "metadata": {},
   "source": [
    "## Задача 4\n",
    "Есть ли статистически значимые различия в росте дочерей?\n",
    "\n",
    "Рост матерей: 172, 177, 158, 170, 178,175, 164, 160, 169, 165\n",
    "    \n",
    "Рост взрослых дочерей: 173, 175, 162, 174, 175, 168, 155, 170, 160"
   ]
  },
  {
   "cell_type": "code",
   "execution_count": 1,
   "id": "70569488",
   "metadata": {},
   "outputs": [],
   "source": [
    "import numpy as np\n",
    "from scipy import stats"
   ]
  },
  {
   "cell_type": "code",
   "execution_count": 2,
   "id": "2fe6b805",
   "metadata": {},
   "outputs": [],
   "source": [
    "x = np.array([172, 177, 158, 170, 178,175, 164, 160, 169, 165])\n",
    "y = np.array([173, 175, 162, 174, 175, 168, 155, 170, 160])"
   ]
  },
  {
   "cell_type": "markdown",
   "id": "818a5fa1",
   "metadata": {},
   "source": [
    "Рост матерей и рост взрослых дочерей должны быть зависимыми величинами, но нам даны выборки разной длины. Полагаем, что это какая то ошибка, и выбросим одно значение из выборки X для выравнивания."
   ]
  },
  {
   "cell_type": "code",
   "execution_count": 3,
   "id": "5800d109",
   "metadata": {},
   "outputs": [
    {
     "data": {
      "text/plain": [
       "array([172, 158, 170, 178, 175, 164, 160, 169, 165])"
      ]
     },
     "execution_count": 3,
     "metadata": {},
     "output_type": "execute_result"
    }
   ],
   "source": [
    "from random import randint\n",
    "x = np.delete(x,randint(0,len(x)))\n",
    "x"
   ]
  },
  {
   "cell_type": "markdown",
   "id": "976ae921",
   "metadata": {},
   "source": [
    "Вычисляем статистику"
   ]
  },
  {
   "cell_type": "code",
   "execution_count": 8,
   "id": "892bcb94",
   "metadata": {},
   "outputs": [
    {
     "data": {
      "text/plain": [
       "Ttest_relResult(statistic=0.04510640748198446, pvalue=0.9651280953848651)"
      ]
     },
     "execution_count": 8,
     "metadata": {},
     "output_type": "execute_result"
    }
   ],
   "source": [
    "stats.ttest_rel(y,x)"
   ]
  },
  {
   "cell_type": "markdown",
   "id": "55546d63",
   "metadata": {},
   "source": [
    "Найдем критическую точку по таблице t критерия Стьюдента"
   ]
  },
  {
   "cell_type": "code",
   "execution_count": 7,
   "id": "d756f360",
   "metadata": {},
   "outputs": [
    {
     "data": {
      "text/plain": [
       "2.101"
      ]
     },
     "execution_count": 7,
     "metadata": {},
     "output_type": "execute_result"
    }
   ],
   "source": [
    "v = 2.101\n",
    "v"
   ]
  },
  {
   "cell_type": "markdown",
   "id": "b5894731",
   "metadata": {},
   "source": [
    "**Вывод** - Вычисленная нами статистика (0.045) меньше, чем найденная по таблице критерия Стьюдента (2.101).\n",
    "\n",
    "На основании этого - гипотеза принимается."
   ]
  },
  {
   "cell_type": "code",
   "execution_count": null,
   "id": "13f3e2ac",
   "metadata": {},
   "outputs": [],
   "source": []
  }
 ],
 "metadata": {
  "kernelspec": {
   "display_name": "Python 3 (ipykernel)",
   "language": "python",
   "name": "python3"
  },
  "language_info": {
   "codemirror_mode": {
    "name": "ipython",
    "version": 3
   },
   "file_extension": ".py",
   "mimetype": "text/x-python",
   "name": "python",
   "nbconvert_exporter": "python",
   "pygments_lexer": "ipython3",
   "version": "3.9.12"
  }
 },
 "nbformat": 4,
 "nbformat_minor": 5
}
